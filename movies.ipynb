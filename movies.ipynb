{
 "metadata": {
  "language_info": {
   "codemirror_mode": {
    "name": "ipython",
    "version": 3
   },
   "file_extension": ".py",
   "mimetype": "text/x-python",
   "name": "python",
   "nbconvert_exporter": "python",
   "pygments_lexer": "ipython3",
   "version": "3.7.6-final"
  },
  "orig_nbformat": 2,
  "kernelspec": {
   "name": "Python 3.7.6 64-bit ('base': conda)",
   "display_name": "Python 3.7.6 64-bit ('base': conda)",
   "metadata": {
    "interpreter": {
     "hash": "53aebb865ea4052021921c9096d8f51dd972eadd840c7a2a98b6fffd8e136bd3"
    }
   }
  }
 },
 "nbformat": 4,
 "nbformat_minor": 2,
 "cells": [
  {
   "cell_type": "code",
   "execution_count": 70,
   "metadata": {},
   "outputs": [],
   "source": [
    "import pandas as pd"
   ]
  },
  {
   "cell_type": "code",
   "execution_count": 71,
   "metadata": {},
   "outputs": [],
   "source": [
    "movies_metadata = 'movies_metadata.csv'\n",
    "movies_streaming = 'MoviesOnStreamingPlatforms_updated.csv'\n",
    "movie_ratings = 'ratings.csv'"
   ]
  },
  {
   "cell_type": "code",
   "execution_count": 72,
   "metadata": {},
   "outputs": [
    {
     "output_type": "execute_result",
     "data": {
      "text/plain": "   adult                              belongs_to_collection    budget  \\\n0  False  {'id': 10194, 'name': 'Toy Story Collection', ...  30000000   \n1  False                                                NaN  65000000   \n2  False  {'id': 119050, 'name': 'Grumpy Old Men Collect...         0   \n3  False                                                NaN  16000000   \n4  False  {'id': 96871, 'name': 'Father of the Bride Col...         0   \n\n                                              genres  \\\n0  [{'id': 16, 'name': 'Animation'}, {'id': 35, '...   \n1  [{'id': 12, 'name': 'Adventure'}, {'id': 14, '...   \n2  [{'id': 10749, 'name': 'Romance'}, {'id': 35, ...   \n3  [{'id': 35, 'name': 'Comedy'}, {'id': 18, 'nam...   \n4                     [{'id': 35, 'name': 'Comedy'}]   \n\n                               homepage     id    imdb_id original_language  \\\n0  http://toystory.disney.com/toy-story    862  tt0114709                en   \n1                                   NaN   8844  tt0113497                en   \n2                                   NaN  15602  tt0113228                en   \n3                                   NaN  31357  tt0114885                en   \n4                                   NaN  11862  tt0113041                en   \n\n                original_title  \\\n0                    Toy Story   \n1                      Jumanji   \n2             Grumpier Old Men   \n3            Waiting to Exhale   \n4  Father of the Bride Part II   \n\n                                            overview  ... release_date  \\\n0  Led by Woody, Andy's toys live happily in his ...  ...   1995-10-30   \n1  When siblings Judy and Peter discover an encha...  ...   1995-12-15   \n2  A family wedding reignites the ancient feud be...  ...   1995-12-22   \n3  Cheated on, mistreated and stepped on, the wom...  ...   1995-12-22   \n4  Just when George Banks has recovered from his ...  ...   1995-02-10   \n\n       revenue runtime                                   spoken_languages  \\\n0  373554033.0    81.0           [{'iso_639_1': 'en', 'name': 'English'}]   \n1  262797249.0   104.0  [{'iso_639_1': 'en', 'name': 'English'}, {'iso...   \n2          0.0   101.0           [{'iso_639_1': 'en', 'name': 'English'}]   \n3   81452156.0   127.0           [{'iso_639_1': 'en', 'name': 'English'}]   \n4   76578911.0   106.0           [{'iso_639_1': 'en', 'name': 'English'}]   \n\n     status                                            tagline  \\\n0  Released                                                NaN   \n1  Released          Roll the dice and unleash the excitement!   \n2  Released  Still Yelling. Still Fighting. Still Ready for...   \n3  Released  Friends are the people who let you be yourself...   \n4  Released  Just When His World Is Back To Normal... He's ...   \n\n                         title  video vote_average vote_count  \n0                    Toy Story  False          7.7     5415.0  \n1                      Jumanji  False          6.9     2413.0  \n2             Grumpier Old Men  False          6.5       92.0  \n3            Waiting to Exhale  False          6.1       34.0  \n4  Father of the Bride Part II  False          5.7      173.0  \n\n[5 rows x 24 columns]",
      "text/html": "<div>\n<style scoped>\n    .dataframe tbody tr th:only-of-type {\n        vertical-align: middle;\n    }\n\n    .dataframe tbody tr th {\n        vertical-align: top;\n    }\n\n    .dataframe thead th {\n        text-align: right;\n    }\n</style>\n<table border=\"1\" class=\"dataframe\">\n  <thead>\n    <tr style=\"text-align: right;\">\n      <th></th>\n      <th>adult</th>\n      <th>belongs_to_collection</th>\n      <th>budget</th>\n      <th>genres</th>\n      <th>homepage</th>\n      <th>id</th>\n      <th>imdb_id</th>\n      <th>original_language</th>\n      <th>original_title</th>\n      <th>overview</th>\n      <th>...</th>\n      <th>release_date</th>\n      <th>revenue</th>\n      <th>runtime</th>\n      <th>spoken_languages</th>\n      <th>status</th>\n      <th>tagline</th>\n      <th>title</th>\n      <th>video</th>\n      <th>vote_average</th>\n      <th>vote_count</th>\n    </tr>\n  </thead>\n  <tbody>\n    <tr>\n      <th>0</th>\n      <td>False</td>\n      <td>{'id': 10194, 'name': 'Toy Story Collection', ...</td>\n      <td>30000000</td>\n      <td>[{'id': 16, 'name': 'Animation'}, {'id': 35, '...</td>\n      <td>http://toystory.disney.com/toy-story</td>\n      <td>862</td>\n      <td>tt0114709</td>\n      <td>en</td>\n      <td>Toy Story</td>\n      <td>Led by Woody, Andy's toys live happily in his ...</td>\n      <td>...</td>\n      <td>1995-10-30</td>\n      <td>373554033.0</td>\n      <td>81.0</td>\n      <td>[{'iso_639_1': 'en', 'name': 'English'}]</td>\n      <td>Released</td>\n      <td>NaN</td>\n      <td>Toy Story</td>\n      <td>False</td>\n      <td>7.7</td>\n      <td>5415.0</td>\n    </tr>\n    <tr>\n      <th>1</th>\n      <td>False</td>\n      <td>NaN</td>\n      <td>65000000</td>\n      <td>[{'id': 12, 'name': 'Adventure'}, {'id': 14, '...</td>\n      <td>NaN</td>\n      <td>8844</td>\n      <td>tt0113497</td>\n      <td>en</td>\n      <td>Jumanji</td>\n      <td>When siblings Judy and Peter discover an encha...</td>\n      <td>...</td>\n      <td>1995-12-15</td>\n      <td>262797249.0</td>\n      <td>104.0</td>\n      <td>[{'iso_639_1': 'en', 'name': 'English'}, {'iso...</td>\n      <td>Released</td>\n      <td>Roll the dice and unleash the excitement!</td>\n      <td>Jumanji</td>\n      <td>False</td>\n      <td>6.9</td>\n      <td>2413.0</td>\n    </tr>\n    <tr>\n      <th>2</th>\n      <td>False</td>\n      <td>{'id': 119050, 'name': 'Grumpy Old Men Collect...</td>\n      <td>0</td>\n      <td>[{'id': 10749, 'name': 'Romance'}, {'id': 35, ...</td>\n      <td>NaN</td>\n      <td>15602</td>\n      <td>tt0113228</td>\n      <td>en</td>\n      <td>Grumpier Old Men</td>\n      <td>A family wedding reignites the ancient feud be...</td>\n      <td>...</td>\n      <td>1995-12-22</td>\n      <td>0.0</td>\n      <td>101.0</td>\n      <td>[{'iso_639_1': 'en', 'name': 'English'}]</td>\n      <td>Released</td>\n      <td>Still Yelling. Still Fighting. Still Ready for...</td>\n      <td>Grumpier Old Men</td>\n      <td>False</td>\n      <td>6.5</td>\n      <td>92.0</td>\n    </tr>\n    <tr>\n      <th>3</th>\n      <td>False</td>\n      <td>NaN</td>\n      <td>16000000</td>\n      <td>[{'id': 35, 'name': 'Comedy'}, {'id': 18, 'nam...</td>\n      <td>NaN</td>\n      <td>31357</td>\n      <td>tt0114885</td>\n      <td>en</td>\n      <td>Waiting to Exhale</td>\n      <td>Cheated on, mistreated and stepped on, the wom...</td>\n      <td>...</td>\n      <td>1995-12-22</td>\n      <td>81452156.0</td>\n      <td>127.0</td>\n      <td>[{'iso_639_1': 'en', 'name': 'English'}]</td>\n      <td>Released</td>\n      <td>Friends are the people who let you be yourself...</td>\n      <td>Waiting to Exhale</td>\n      <td>False</td>\n      <td>6.1</td>\n      <td>34.0</td>\n    </tr>\n    <tr>\n      <th>4</th>\n      <td>False</td>\n      <td>{'id': 96871, 'name': 'Father of the Bride Col...</td>\n      <td>0</td>\n      <td>[{'id': 35, 'name': 'Comedy'}]</td>\n      <td>NaN</td>\n      <td>11862</td>\n      <td>tt0113041</td>\n      <td>en</td>\n      <td>Father of the Bride Part II</td>\n      <td>Just when George Banks has recovered from his ...</td>\n      <td>...</td>\n      <td>1995-02-10</td>\n      <td>76578911.0</td>\n      <td>106.0</td>\n      <td>[{'iso_639_1': 'en', 'name': 'English'}]</td>\n      <td>Released</td>\n      <td>Just When His World Is Back To Normal... He's ...</td>\n      <td>Father of the Bride Part II</td>\n      <td>False</td>\n      <td>5.7</td>\n      <td>173.0</td>\n    </tr>\n  </tbody>\n</table>\n<p>5 rows × 24 columns</p>\n</div>"
     },
     "metadata": {},
     "execution_count": 72
    }
   ],
   "source": [
    "movies_metadata_df = pd.read_csv(movies_metadata)\n",
    "movies_metadata_df.head()"
   ]
  },
  {
   "cell_type": "code",
   "execution_count": 73,
   "metadata": {},
   "outputs": [
    {
     "output_type": "execute_result",
     "data": {
      "text/plain": "                                              genres     id    imdb_id  \\\n0  [{'id': 16, 'name': 'Animation'}, {'id': 35, '...    862  tt0114709   \n1  [{'id': 12, 'name': 'Adventure'}, {'id': 14, '...   8844  tt0113497   \n2  [{'id': 10749, 'name': 'Romance'}, {'id': 35, ...  15602  tt0113228   \n3  [{'id': 35, 'name': 'Comedy'}, {'id': 18, 'nam...  31357  tt0114885   \n4                     [{'id': 35, 'name': 'Comedy'}]  11862  tt0113041   \n\n                        poster_path release_date                        title  \n0  /rhIRbceoE9lR4veEXuwCC2wARtG.jpg   1995-10-30                    Toy Story  \n1  /vzmL6fP7aPKNKPRTFnZmiUfciyV.jpg   1995-12-15                      Jumanji  \n2  /6ksm1sjKMFLbO7UY2i6G1ju9SML.jpg   1995-12-22             Grumpier Old Men  \n3  /16XOMpEaLWkrcPqSQqhTmeJuqQl.jpg   1995-12-22            Waiting to Exhale  \n4  /e64sOI48hQXyru7naBFyssKFxVd.jpg   1995-02-10  Father of the Bride Part II  ",
      "text/html": "<div>\n<style scoped>\n    .dataframe tbody tr th:only-of-type {\n        vertical-align: middle;\n    }\n\n    .dataframe tbody tr th {\n        vertical-align: top;\n    }\n\n    .dataframe thead th {\n        text-align: right;\n    }\n</style>\n<table border=\"1\" class=\"dataframe\">\n  <thead>\n    <tr style=\"text-align: right;\">\n      <th></th>\n      <th>genres</th>\n      <th>id</th>\n      <th>imdb_id</th>\n      <th>poster_path</th>\n      <th>release_date</th>\n      <th>title</th>\n    </tr>\n  </thead>\n  <tbody>\n    <tr>\n      <th>0</th>\n      <td>[{'id': 16, 'name': 'Animation'}, {'id': 35, '...</td>\n      <td>862</td>\n      <td>tt0114709</td>\n      <td>/rhIRbceoE9lR4veEXuwCC2wARtG.jpg</td>\n      <td>1995-10-30</td>\n      <td>Toy Story</td>\n    </tr>\n    <tr>\n      <th>1</th>\n      <td>[{'id': 12, 'name': 'Adventure'}, {'id': 14, '...</td>\n      <td>8844</td>\n      <td>tt0113497</td>\n      <td>/vzmL6fP7aPKNKPRTFnZmiUfciyV.jpg</td>\n      <td>1995-12-15</td>\n      <td>Jumanji</td>\n    </tr>\n    <tr>\n      <th>2</th>\n      <td>[{'id': 10749, 'name': 'Romance'}, {'id': 35, ...</td>\n      <td>15602</td>\n      <td>tt0113228</td>\n      <td>/6ksm1sjKMFLbO7UY2i6G1ju9SML.jpg</td>\n      <td>1995-12-22</td>\n      <td>Grumpier Old Men</td>\n    </tr>\n    <tr>\n      <th>3</th>\n      <td>[{'id': 35, 'name': 'Comedy'}, {'id': 18, 'nam...</td>\n      <td>31357</td>\n      <td>tt0114885</td>\n      <td>/16XOMpEaLWkrcPqSQqhTmeJuqQl.jpg</td>\n      <td>1995-12-22</td>\n      <td>Waiting to Exhale</td>\n    </tr>\n    <tr>\n      <th>4</th>\n      <td>[{'id': 35, 'name': 'Comedy'}]</td>\n      <td>11862</td>\n      <td>tt0113041</td>\n      <td>/e64sOI48hQXyru7naBFyssKFxVd.jpg</td>\n      <td>1995-02-10</td>\n      <td>Father of the Bride Part II</td>\n    </tr>\n  </tbody>\n</table>\n</div>"
     },
     "metadata": {},
     "execution_count": 73
    }
   ],
   "source": [
    "movies_metadata_df = movies_metadata_df.drop(columns = ['adult', 'belongs_to_collection', 'budget', 'homepage', 'original_language', 'original_title', 'overview', 'popularity', 'production_companies', 'production_countries', 'revenue', 'runtime','spoken_languages', 'status', 'tagline', 'video', 'vote_average', 'vote_count'])\n",
    "movies_metadata_df.head()"
   ]
  },
  {
   "cell_type": "code",
   "execution_count": 78,
   "metadata": {},
   "outputs": [
    {
     "output_type": "execute_result",
     "data": {
      "text/plain": "                                              genres     id    imdb_id  \\\n0  [{'id': 16, 'name': 'Animation'}, {'id': 35, '...    862  tt0114709   \n1  [{'id': 12, 'name': 'Adventure'}, {'id': 14, '...   8844  tt0113497   \n2  [{'id': 10749, 'name': 'Romance'}, {'id': 35, ...  15602  tt0113228   \n3  [{'id': 35, 'name': 'Comedy'}, {'id': 18, 'nam...  31357  tt0114885   \n4                     [{'id': 35, 'name': 'Comedy'}]  11862  tt0113041   \n\n                        poster_path release_date                        Title  \n0  /rhIRbceoE9lR4veEXuwCC2wARtG.jpg   1995-10-30                    Toy Story  \n1  /vzmL6fP7aPKNKPRTFnZmiUfciyV.jpg   1995-12-15                      Jumanji  \n2  /6ksm1sjKMFLbO7UY2i6G1ju9SML.jpg   1995-12-22             Grumpier Old Men  \n3  /16XOMpEaLWkrcPqSQqhTmeJuqQl.jpg   1995-12-22            Waiting to Exhale  \n4  /e64sOI48hQXyru7naBFyssKFxVd.jpg   1995-02-10  Father of the Bride Part II  ",
      "text/html": "<div>\n<style scoped>\n    .dataframe tbody tr th:only-of-type {\n        vertical-align: middle;\n    }\n\n    .dataframe tbody tr th {\n        vertical-align: top;\n    }\n\n    .dataframe thead th {\n        text-align: right;\n    }\n</style>\n<table border=\"1\" class=\"dataframe\">\n  <thead>\n    <tr style=\"text-align: right;\">\n      <th></th>\n      <th>genres</th>\n      <th>id</th>\n      <th>imdb_id</th>\n      <th>poster_path</th>\n      <th>release_date</th>\n      <th>Title</th>\n    </tr>\n  </thead>\n  <tbody>\n    <tr>\n      <th>0</th>\n      <td>[{'id': 16, 'name': 'Animation'}, {'id': 35, '...</td>\n      <td>862</td>\n      <td>tt0114709</td>\n      <td>/rhIRbceoE9lR4veEXuwCC2wARtG.jpg</td>\n      <td>1995-10-30</td>\n      <td>Toy Story</td>\n    </tr>\n    <tr>\n      <th>1</th>\n      <td>[{'id': 12, 'name': 'Adventure'}, {'id': 14, '...</td>\n      <td>8844</td>\n      <td>tt0113497</td>\n      <td>/vzmL6fP7aPKNKPRTFnZmiUfciyV.jpg</td>\n      <td>1995-12-15</td>\n      <td>Jumanji</td>\n    </tr>\n    <tr>\n      <th>2</th>\n      <td>[{'id': 10749, 'name': 'Romance'}, {'id': 35, ...</td>\n      <td>15602</td>\n      <td>tt0113228</td>\n      <td>/6ksm1sjKMFLbO7UY2i6G1ju9SML.jpg</td>\n      <td>1995-12-22</td>\n      <td>Grumpier Old Men</td>\n    </tr>\n    <tr>\n      <th>3</th>\n      <td>[{'id': 35, 'name': 'Comedy'}, {'id': 18, 'nam...</td>\n      <td>31357</td>\n      <td>tt0114885</td>\n      <td>/16XOMpEaLWkrcPqSQqhTmeJuqQl.jpg</td>\n      <td>1995-12-22</td>\n      <td>Waiting to Exhale</td>\n    </tr>\n    <tr>\n      <th>4</th>\n      <td>[{'id': 35, 'name': 'Comedy'}]</td>\n      <td>11862</td>\n      <td>tt0113041</td>\n      <td>/e64sOI48hQXyru7naBFyssKFxVd.jpg</td>\n      <td>1995-02-10</td>\n      <td>Father of the Bride Part II</td>\n    </tr>\n  </tbody>\n</table>\n</div>"
     },
     "metadata": {},
     "execution_count": 78
    }
   ],
   "source": [
    "movies_metadata_df = movies_metadata_df.rename(columns={\"title\":\"Title\"})\n",
    "movies_metadata_df.head()"
   ]
  },
  {
   "cell_type": "code",
   "execution_count": 83,
   "metadata": {},
   "outputs": [
    {
     "output_type": "execute_result",
     "data": {
      "text/plain": "genres          45466\nid              45466\nimdb_id         45449\nposter_path     45080\nrelease_date    45379\nTitle           45460\ndtype: int64"
     },
     "metadata": {},
     "execution_count": 83
    }
   ],
   "source": [
    "movies_metadata_df.count()"
   ]
  },
  {
   "cell_type": "code",
   "execution_count": 74,
   "metadata": {},
   "outputs": [
    {
     "output_type": "execute_result",
     "data": {
      "text/plain": "   Unnamed: 0  ID                           Title  Year  Age  IMDb  \\\n0           0   1                       Inception  2010  13+   8.8   \n1           1   2                      The Matrix  1999  18+   8.7   \n2           2   3          Avengers: Infinity War  2018  13+   8.5   \n3           3   4              Back to the Future  1985   7+   8.5   \n4           4   5  The Good, the Bad and the Ugly  1966  18+   8.8   \n\n  Rotten Tomatoes  Netflix  Hulu  Prime Video  Disney+  Type  \\\n0             87%        1     0            0        0     0   \n1             87%        1     0            0        0     0   \n2             84%        1     0            0        0     0   \n3             96%        1     0            0        0     0   \n4             97%        1     0            1        0     0   \n\n                        Directors                            Genres  \\\n0               Christopher Nolan  Action,Adventure,Sci-Fi,Thriller   \n1  Lana Wachowski,Lilly Wachowski                     Action,Sci-Fi   \n2         Anthony Russo,Joe Russo           Action,Adventure,Sci-Fi   \n3                 Robert Zemeckis           Adventure,Comedy,Sci-Fi   \n4                    Sergio Leone                           Western   \n\n                        Country                 Language  Runtime  \n0  United States,United Kingdom  English,Japanese,French    148.0  \n1                 United States                  English    136.0  \n2                 United States                  English    149.0  \n3                 United States                  English    116.0  \n4      Italy,Spain,West Germany                  Italian    161.0  ",
      "text/html": "<div>\n<style scoped>\n    .dataframe tbody tr th:only-of-type {\n        vertical-align: middle;\n    }\n\n    .dataframe tbody tr th {\n        vertical-align: top;\n    }\n\n    .dataframe thead th {\n        text-align: right;\n    }\n</style>\n<table border=\"1\" class=\"dataframe\">\n  <thead>\n    <tr style=\"text-align: right;\">\n      <th></th>\n      <th>Unnamed: 0</th>\n      <th>ID</th>\n      <th>Title</th>\n      <th>Year</th>\n      <th>Age</th>\n      <th>IMDb</th>\n      <th>Rotten Tomatoes</th>\n      <th>Netflix</th>\n      <th>Hulu</th>\n      <th>Prime Video</th>\n      <th>Disney+</th>\n      <th>Type</th>\n      <th>Directors</th>\n      <th>Genres</th>\n      <th>Country</th>\n      <th>Language</th>\n      <th>Runtime</th>\n    </tr>\n  </thead>\n  <tbody>\n    <tr>\n      <th>0</th>\n      <td>0</td>\n      <td>1</td>\n      <td>Inception</td>\n      <td>2010</td>\n      <td>13+</td>\n      <td>8.8</td>\n      <td>87%</td>\n      <td>1</td>\n      <td>0</td>\n      <td>0</td>\n      <td>0</td>\n      <td>0</td>\n      <td>Christopher Nolan</td>\n      <td>Action,Adventure,Sci-Fi,Thriller</td>\n      <td>United States,United Kingdom</td>\n      <td>English,Japanese,French</td>\n      <td>148.0</td>\n    </tr>\n    <tr>\n      <th>1</th>\n      <td>1</td>\n      <td>2</td>\n      <td>The Matrix</td>\n      <td>1999</td>\n      <td>18+</td>\n      <td>8.7</td>\n      <td>87%</td>\n      <td>1</td>\n      <td>0</td>\n      <td>0</td>\n      <td>0</td>\n      <td>0</td>\n      <td>Lana Wachowski,Lilly Wachowski</td>\n      <td>Action,Sci-Fi</td>\n      <td>United States</td>\n      <td>English</td>\n      <td>136.0</td>\n    </tr>\n    <tr>\n      <th>2</th>\n      <td>2</td>\n      <td>3</td>\n      <td>Avengers: Infinity War</td>\n      <td>2018</td>\n      <td>13+</td>\n      <td>8.5</td>\n      <td>84%</td>\n      <td>1</td>\n      <td>0</td>\n      <td>0</td>\n      <td>0</td>\n      <td>0</td>\n      <td>Anthony Russo,Joe Russo</td>\n      <td>Action,Adventure,Sci-Fi</td>\n      <td>United States</td>\n      <td>English</td>\n      <td>149.0</td>\n    </tr>\n    <tr>\n      <th>3</th>\n      <td>3</td>\n      <td>4</td>\n      <td>Back to the Future</td>\n      <td>1985</td>\n      <td>7+</td>\n      <td>8.5</td>\n      <td>96%</td>\n      <td>1</td>\n      <td>0</td>\n      <td>0</td>\n      <td>0</td>\n      <td>0</td>\n      <td>Robert Zemeckis</td>\n      <td>Adventure,Comedy,Sci-Fi</td>\n      <td>United States</td>\n      <td>English</td>\n      <td>116.0</td>\n    </tr>\n    <tr>\n      <th>4</th>\n      <td>4</td>\n      <td>5</td>\n      <td>The Good, the Bad and the Ugly</td>\n      <td>1966</td>\n      <td>18+</td>\n      <td>8.8</td>\n      <td>97%</td>\n      <td>1</td>\n      <td>0</td>\n      <td>1</td>\n      <td>0</td>\n      <td>0</td>\n      <td>Sergio Leone</td>\n      <td>Western</td>\n      <td>Italy,Spain,West Germany</td>\n      <td>Italian</td>\n      <td>161.0</td>\n    </tr>\n  </tbody>\n</table>\n</div>"
     },
     "metadata": {},
     "execution_count": 74
    }
   ],
   "source": [
    "movies_streaming_df = pd.read_csv(movies_streaming)\n",
    "movies_streaming_df.head()"
   ]
  },
  {
   "cell_type": "code",
   "execution_count": 81,
   "metadata": {},
   "outputs": [
    {
     "output_type": "execute_result",
     "data": {
      "text/plain": "ID                 16744\nTitle              16744\nYear               16744\nAge                 7354\nIMDb               16173\nRotten Tomatoes     5158\nNetflix            16744\nHulu               16744\nPrime Video        16744\nDisney+            16744\nGenres             16469\ndtype: int64"
     },
     "metadata": {},
     "execution_count": 81
    }
   ],
   "source": [
    "movies_streaming_df.count()"
   ]
  },
  {
   "cell_type": "code",
   "execution_count": 76,
   "metadata": {},
   "outputs": [
    {
     "output_type": "execute_result",
     "data": {
      "text/plain": "   ID                           Title  Year  Age  IMDb Rotten Tomatoes  \\\n0   1                       Inception  2010  13+   8.8             87%   \n1   2                      The Matrix  1999  18+   8.7             87%   \n2   3          Avengers: Infinity War  2018  13+   8.5             84%   \n3   4              Back to the Future  1985   7+   8.5             96%   \n4   5  The Good, the Bad and the Ugly  1966  18+   8.8             97%   \n\n   Netflix  Hulu  Prime Video  Disney+                            Genres  \n0        1     0            0        0  Action,Adventure,Sci-Fi,Thriller  \n1        1     0            0        0                     Action,Sci-Fi  \n2        1     0            0        0           Action,Adventure,Sci-Fi  \n3        1     0            0        0           Adventure,Comedy,Sci-Fi  \n4        1     0            1        0                           Western  ",
      "text/html": "<div>\n<style scoped>\n    .dataframe tbody tr th:only-of-type {\n        vertical-align: middle;\n    }\n\n    .dataframe tbody tr th {\n        vertical-align: top;\n    }\n\n    .dataframe thead th {\n        text-align: right;\n    }\n</style>\n<table border=\"1\" class=\"dataframe\">\n  <thead>\n    <tr style=\"text-align: right;\">\n      <th></th>\n      <th>ID</th>\n      <th>Title</th>\n      <th>Year</th>\n      <th>Age</th>\n      <th>IMDb</th>\n      <th>Rotten Tomatoes</th>\n      <th>Netflix</th>\n      <th>Hulu</th>\n      <th>Prime Video</th>\n      <th>Disney+</th>\n      <th>Genres</th>\n    </tr>\n  </thead>\n  <tbody>\n    <tr>\n      <th>0</th>\n      <td>1</td>\n      <td>Inception</td>\n      <td>2010</td>\n      <td>13+</td>\n      <td>8.8</td>\n      <td>87%</td>\n      <td>1</td>\n      <td>0</td>\n      <td>0</td>\n      <td>0</td>\n      <td>Action,Adventure,Sci-Fi,Thriller</td>\n    </tr>\n    <tr>\n      <th>1</th>\n      <td>2</td>\n      <td>The Matrix</td>\n      <td>1999</td>\n      <td>18+</td>\n      <td>8.7</td>\n      <td>87%</td>\n      <td>1</td>\n      <td>0</td>\n      <td>0</td>\n      <td>0</td>\n      <td>Action,Sci-Fi</td>\n    </tr>\n    <tr>\n      <th>2</th>\n      <td>3</td>\n      <td>Avengers: Infinity War</td>\n      <td>2018</td>\n      <td>13+</td>\n      <td>8.5</td>\n      <td>84%</td>\n      <td>1</td>\n      <td>0</td>\n      <td>0</td>\n      <td>0</td>\n      <td>Action,Adventure,Sci-Fi</td>\n    </tr>\n    <tr>\n      <th>3</th>\n      <td>4</td>\n      <td>Back to the Future</td>\n      <td>1985</td>\n      <td>7+</td>\n      <td>8.5</td>\n      <td>96%</td>\n      <td>1</td>\n      <td>0</td>\n      <td>0</td>\n      <td>0</td>\n      <td>Adventure,Comedy,Sci-Fi</td>\n    </tr>\n    <tr>\n      <th>4</th>\n      <td>5</td>\n      <td>The Good, the Bad and the Ugly</td>\n      <td>1966</td>\n      <td>18+</td>\n      <td>8.8</td>\n      <td>97%</td>\n      <td>1</td>\n      <td>0</td>\n      <td>1</td>\n      <td>0</td>\n      <td>Western</td>\n    </tr>\n  </tbody>\n</table>\n</div>"
     },
     "metadata": {},
     "execution_count": 76
    }
   ],
   "source": [
    "movies_streaming_df = movies_streaming_df.drop(columns = ['Unnamed: 0', 'Type', 'Directors', 'Country', 'Language', 'Runtime'])\n",
    "\n",
    "movies_streaming_df.head()"
   ]
  },
  {
   "cell_type": "code",
   "execution_count": 88,
   "metadata": {},
   "outputs": [
    {
     "output_type": "execute_result",
     "data": {
      "text/plain": "                                              genres     id    imdb_id  \\\n0  [{'id': 16, 'name': 'Animation'}, {'id': 35, '...    862  tt0114709   \n1  [{'id': 35, 'name': 'Comedy'}, {'id': 18, 'nam...  31357  tt0114885   \n2  [{'id': 35, 'name': 'Comedy'}, {'id': 10749, '...  11860  tt0114319   \n3  [{'id': 35, 'name': 'Comedy'}, {'id': 18, 'nam...   6620  tt0047437   \n4  [{'id': 28, 'name': 'Action'}, {'id': 12, 'nam...  45325  tt0112302   \n\n                        poster_path release_date              Title     ID  \\\n0  /rhIRbceoE9lR4veEXuwCC2wARtG.jpg   1995-10-30          Toy Story  16216   \n1  /16XOMpEaLWkrcPqSQqhTmeJuqQl.jpg   1995-12-22  Waiting to Exhale   3837   \n2  /jQh15y5YB7bWz1NtffNZmRw0s9D.jpg   1995-12-15            Sabrina   2057   \n3  /7ITDmatHa2yf5UTzjwaKAvf3Xr6.jpg   1954-09-28            Sabrina   2057   \n4  /sGO5Qa55p7wTu7FJcX4H4xIVKvS.jpg   1995-12-22       Tom and Huck  16533   \n\n   Year  Age  IMDb Rotten Tomatoes  Netflix  Hulu  Prime Video  Disney+  \\\n0  1995  all   8.3            100%        0     0            0        1   \n1  1995  18+   5.9             56%        0     1            0        0   \n2  2018  NaN   4.2             NaN        1     0            0        0   \n3  2018  NaN   4.2             NaN        1     0            0        0   \n4  1995   7+   5.5             25%        0     0            0        1   \n\n                                          Genres  \n0      Animation,Adventure,Comedy,Family,Fantasy  \n1                           Comedy,Drama,Romance  \n2                          Comedy,Family,Fantasy  \n3                          Comedy,Family,Fantasy  \n4  Adventure,Comedy,Drama,Family,Romance,Western  ",
      "text/html": "<div>\n<style scoped>\n    .dataframe tbody tr th:only-of-type {\n        vertical-align: middle;\n    }\n\n    .dataframe tbody tr th {\n        vertical-align: top;\n    }\n\n    .dataframe thead th {\n        text-align: right;\n    }\n</style>\n<table border=\"1\" class=\"dataframe\">\n  <thead>\n    <tr style=\"text-align: right;\">\n      <th></th>\n      <th>genres</th>\n      <th>id</th>\n      <th>imdb_id</th>\n      <th>poster_path</th>\n      <th>release_date</th>\n      <th>Title</th>\n      <th>ID</th>\n      <th>Year</th>\n      <th>Age</th>\n      <th>IMDb</th>\n      <th>Rotten Tomatoes</th>\n      <th>Netflix</th>\n      <th>Hulu</th>\n      <th>Prime Video</th>\n      <th>Disney+</th>\n      <th>Genres</th>\n    </tr>\n  </thead>\n  <tbody>\n    <tr>\n      <th>0</th>\n      <td>[{'id': 16, 'name': 'Animation'}, {'id': 35, '...</td>\n      <td>862</td>\n      <td>tt0114709</td>\n      <td>/rhIRbceoE9lR4veEXuwCC2wARtG.jpg</td>\n      <td>1995-10-30</td>\n      <td>Toy Story</td>\n      <td>16216</td>\n      <td>1995</td>\n      <td>all</td>\n      <td>8.3</td>\n      <td>100%</td>\n      <td>0</td>\n      <td>0</td>\n      <td>0</td>\n      <td>1</td>\n      <td>Animation,Adventure,Comedy,Family,Fantasy</td>\n    </tr>\n    <tr>\n      <th>1</th>\n      <td>[{'id': 35, 'name': 'Comedy'}, {'id': 18, 'nam...</td>\n      <td>31357</td>\n      <td>tt0114885</td>\n      <td>/16XOMpEaLWkrcPqSQqhTmeJuqQl.jpg</td>\n      <td>1995-12-22</td>\n      <td>Waiting to Exhale</td>\n      <td>3837</td>\n      <td>1995</td>\n      <td>18+</td>\n      <td>5.9</td>\n      <td>56%</td>\n      <td>0</td>\n      <td>1</td>\n      <td>0</td>\n      <td>0</td>\n      <td>Comedy,Drama,Romance</td>\n    </tr>\n    <tr>\n      <th>2</th>\n      <td>[{'id': 35, 'name': 'Comedy'}, {'id': 10749, '...</td>\n      <td>11860</td>\n      <td>tt0114319</td>\n      <td>/jQh15y5YB7bWz1NtffNZmRw0s9D.jpg</td>\n      <td>1995-12-15</td>\n      <td>Sabrina</td>\n      <td>2057</td>\n      <td>2018</td>\n      <td>NaN</td>\n      <td>4.2</td>\n      <td>NaN</td>\n      <td>1</td>\n      <td>0</td>\n      <td>0</td>\n      <td>0</td>\n      <td>Comedy,Family,Fantasy</td>\n    </tr>\n    <tr>\n      <th>3</th>\n      <td>[{'id': 35, 'name': 'Comedy'}, {'id': 18, 'nam...</td>\n      <td>6620</td>\n      <td>tt0047437</td>\n      <td>/7ITDmatHa2yf5UTzjwaKAvf3Xr6.jpg</td>\n      <td>1954-09-28</td>\n      <td>Sabrina</td>\n      <td>2057</td>\n      <td>2018</td>\n      <td>NaN</td>\n      <td>4.2</td>\n      <td>NaN</td>\n      <td>1</td>\n      <td>0</td>\n      <td>0</td>\n      <td>0</td>\n      <td>Comedy,Family,Fantasy</td>\n    </tr>\n    <tr>\n      <th>4</th>\n      <td>[{'id': 28, 'name': 'Action'}, {'id': 12, 'nam...</td>\n      <td>45325</td>\n      <td>tt0112302</td>\n      <td>/sGO5Qa55p7wTu7FJcX4H4xIVKvS.jpg</td>\n      <td>1995-12-22</td>\n      <td>Tom and Huck</td>\n      <td>16533</td>\n      <td>1995</td>\n      <td>7+</td>\n      <td>5.5</td>\n      <td>25%</td>\n      <td>0</td>\n      <td>0</td>\n      <td>0</td>\n      <td>1</td>\n      <td>Adventure,Comedy,Drama,Family,Romance,Western</td>\n    </tr>\n  </tbody>\n</table>\n</div>"
     },
     "metadata": {},
     "execution_count": 88
    }
   ],
   "source": [
    "\n",
    "movies_merged_df = pd.merge(movies_metadata_df, movies_streaming_df, on=\"Title\", how=\"right\")\n",
    "movies_merged_df.head()"
   ]
  },
  {
   "cell_type": "code",
   "execution_count": 89,
   "metadata": {},
   "outputs": [
    {
     "output_type": "execute_result",
     "data": {
      "text/plain": "genres              8013\nid                  8013\nimdb_id             8010\nposter_path         7992\nrelease_date        8008\nTitle              17898\nID                 17898\nYear               17898\nAge                 8051\nIMDb               17317\nRotten Tomatoes     5794\nNetflix            17898\nHulu               17898\nPrime Video        17898\nDisney+            17898\nGenres             17622\ndtype: int64"
     },
     "metadata": {},
     "execution_count": 89
    }
   ],
   "source": [
    "movies_merged_df.count()"
   ]
  },
  {
   "cell_type": "code",
   "execution_count": null,
   "metadata": {},
   "outputs": [],
   "source": []
  }
 ]
}